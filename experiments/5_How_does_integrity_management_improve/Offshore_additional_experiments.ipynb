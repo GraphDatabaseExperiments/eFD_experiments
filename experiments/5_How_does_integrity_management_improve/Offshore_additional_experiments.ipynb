{
 "cells": [
  {
   "cell_type": "code",
   "execution_count": 1,
   "id": "9c5eaf93",
   "metadata": {},
   "outputs": [
    {
     "data": {
      "text/plain": [
       "{'status': 'healthy',\n",
       " 'startTime': 'Fri Aug 16 00:24:27 UTC 2024',\n",
       " 'dbEngineVersion': '1.3.2.1.R1',\n",
       " 'role': 'writer',\n",
       " 'dfeQueryEngine': 'viaQueryHint',\n",
       " 'gremlin': {'version': 'tinkerpop-3.7.1'},\n",
       " 'sparql': {'version': 'sparql-1.1'},\n",
       " 'opencypher': {'version': 'Neptune-9.0.20190305-1.0'},\n",
       " 'labMode': {'ObjectIndex': 'disabled',\n",
       "  'ReadWriteConflictDetection': 'enabled'},\n",
       " 'features': {'SlowQueryLogs': 'disabled',\n",
       "  'ResultCache': {'status': 'disabled'},\n",
       "  'IAMAuthentication': 'disabled',\n",
       "  'Streams': 'disabled',\n",
       "  'AuditLog': 'disabled'},\n",
       " 'settings': {'StrictTimeoutValidation': 'false',\n",
       "  'clusterQueryTimeoutInMs': '120000',\n",
       "  'SlowQueryLogsThreshold': '5000'}}"
      ]
     },
     "execution_count": 1,
     "metadata": {},
     "output_type": "execute_result"
    }
   ],
   "source": [
    "%status"
   ]
  },
  {
   "cell_type": "code",
   "execution_count": 2,
   "id": "86b8bdd5",
   "metadata": {},
   "outputs": [
    {
     "data": {
      "application/vnd.jupyter.widget-view+json": {
       "model_id": "147f9ea04180452686c8bdfc8cec1440",
       "version_major": 2,
       "version_minor": 0
      },
      "text/plain": [
       "Tab(children=(Output(layout=Layout(max_height='600px', max_width='940px', overflow='scroll')), Output(layout=L…"
      ]
     },
     "metadata": {},
     "output_type": "display_data"
    }
   ],
   "source": [
    "%%oc\n",
    "MATCH (n)\n",
    "DETACH DELETE n"
   ]
  },
  {
   "cell_type": "code",
   "execution_count": 4,
   "id": "d3233ab5",
   "metadata": {},
   "outputs": [
    {
     "data": {
      "application/vnd.jupyter.widget-view+json": {
       "model_id": "",
       "version_major": 2,
       "version_minor": 0
      },
      "text/plain": [
       "HBox(children=(Label(value='Source:', layout=Layout(display='flex', justify_content='flex-end', width='16%')),…"
      ]
     },
     "metadata": {},
     "output_type": "display_data"
    },
    {
     "data": {
      "application/vnd.jupyter.widget-view+json": {
       "model_id": "",
       "version_major": 2,
       "version_minor": 0
      },
      "text/plain": [
       "HBox(children=(Label(value='Format:', layout=Layout(display='flex', justify_content='flex-end', width='16%')),…"
      ]
     },
     "metadata": {},
     "output_type": "display_data"
    },
    {
     "data": {
      "application/vnd.jupyter.widget-view+json": {
       "model_id": "",
       "version_major": 2,
       "version_minor": 0
      },
      "text/plain": [
       "HBox(children=(Label(value='Region:', layout=Layout(display='flex', justify_content='flex-end', width='16%')),…"
      ]
     },
     "metadata": {},
     "output_type": "display_data"
    },
    {
     "data": {
      "application/vnd.jupyter.widget-view+json": {
       "model_id": "",
       "version_major": 2,
       "version_minor": 0
      },
      "text/plain": [
       "HBox(children=(Label(value='Fail on Error:', layout=Layout(display='flex', justify_content='flex-end', width='…"
      ]
     },
     "metadata": {},
     "output_type": "display_data"
    },
    {
     "data": {
      "application/vnd.jupyter.widget-view+json": {
       "model_id": "",
       "version_major": 2,
       "version_minor": 0
      },
      "text/plain": [
       "HBox(children=(Label(value='Load ARN:', layout=Layout(display='flex', justify_content='flex-end', width='16%')…"
      ]
     },
     "metadata": {},
     "output_type": "display_data"
    },
    {
     "data": {
      "application/vnd.jupyter.widget-view+json": {
       "model_id": "",
       "version_major": 2,
       "version_minor": 0
      },
      "text/plain": [
       "HBox(children=(Label(value='Mode:', layout=Layout(display='flex', justify_content='flex-end', width='16%')), D…"
      ]
     },
     "metadata": {},
     "output_type": "display_data"
    },
    {
     "data": {
      "application/vnd.jupyter.widget-view+json": {
       "model_id": "",
       "version_major": 2,
       "version_minor": 0
      },
      "text/plain": [
       "HBox(children=(Label(value='Parallelism:', layout=Layout(display='flex', justify_content='flex-end', width='16…"
      ]
     },
     "metadata": {},
     "output_type": "display_data"
    },
    {
     "data": {
      "application/vnd.jupyter.widget-view+json": {
       "model_id": "",
       "version_major": 2,
       "version_minor": 0
      },
      "text/plain": [
       "HBox(children=(Label(value='Update Single Cardinality:', layout=Layout(display='flex', justify_content='flex-e…"
      ]
     },
     "metadata": {},
     "output_type": "display_data"
    },
    {
     "data": {
      "application/vnd.jupyter.widget-view+json": {
       "model_id": "",
       "version_major": 2,
       "version_minor": 0
      },
      "text/plain": [
       "HBox(children=(Label(value='Queue Request:', layout=Layout(display='flex', justify_content='flex-end', width='…"
      ]
     },
     "metadata": {},
     "output_type": "display_data"
    },
    {
     "data": {
      "application/vnd.jupyter.widget-view+json": {
       "model_id": "",
       "version_major": 2,
       "version_minor": 0
      },
      "text/plain": [
       "HBox(children=(Label(value='Dependencies:', layout=Layout(display='flex', justify_content='flex-end', width='1…"
      ]
     },
     "metadata": {},
     "output_type": "display_data"
    },
    {
     "data": {
      "application/vnd.jupyter.widget-view+json": {
       "model_id": "",
       "version_major": 2,
       "version_minor": 0
      },
      "text/plain": [
       "HBox(children=(Label(value='User Provided Edge Ids:', layout=Layout(display='none', justify_content='flex-end'…"
      ]
     },
     "metadata": {},
     "output_type": "display_data"
    },
    {
     "data": {
      "application/vnd.jupyter.widget-view+json": {
       "model_id": "",
       "version_major": 2,
       "version_minor": 0
      },
      "text/plain": [
       "HBox(children=(Label(value='Allow Empty Strings:', layout=Layout(display='flex', justify_content='flex-end', w…"
      ]
     },
     "metadata": {},
     "output_type": "display_data"
    },
    {
     "data": {
      "application/vnd.jupyter.widget-view+json": {
       "model_id": "",
       "version_major": 2,
       "version_minor": 0
      },
      "text/plain": [
       "HBox(children=(Label(value='Named Graph URI:', layout=Layout(display='none', justify_content='flex-end', width…"
      ]
     },
     "metadata": {},
     "output_type": "display_data"
    },
    {
     "data": {
      "application/vnd.jupyter.widget-view+json": {
       "model_id": "",
       "version_major": 2,
       "version_minor": 0
      },
      "text/plain": [
       "HBox(children=(Label(value='Base URI:', layout=Layout(display='none', justify_content='flex-end', width='16%')…"
      ]
     },
     "metadata": {},
     "output_type": "display_data"
    },
    {
     "data": {
      "application/vnd.jupyter.widget-view+json": {
       "model_id": "",
       "version_major": 2,
       "version_minor": 0
      },
      "text/plain": [
       "HBox(children=(Label(value='Poll Load Status:', layout=Layout(display='flex', justify_content='flex-end', widt…"
      ]
     },
     "metadata": {},
     "output_type": "display_data"
    },
    {
     "data": {
      "application/vnd.jupyter.widget-view+json": {
       "model_id": "",
       "version_major": 2,
       "version_minor": 0
      },
      "text/plain": [
       "Button(description='Submit', style=ButtonStyle())"
      ]
     },
     "metadata": {},
     "output_type": "display_data"
    },
    {
     "data": {
      "application/vnd.jupyter.widget-view+json": {
       "model_id": "99d25d7656f4463aa89163155bfef7cb",
       "version_major": 2,
       "version_minor": 0
      },
      "text/plain": [
       "Output()"
      ]
     },
     "metadata": {},
     "output_type": "display_data"
    }
   ],
   "source": [
    "%load"
   ]
  },
  {
   "cell_type": "code",
   "execution_count": 5,
   "id": "dca65fb5",
   "metadata": {
    "scrolled": true
   },
   "outputs": [
    {
     "data": {
      "application/vnd.jupyter.widget-view+json": {
       "model_id": "2068d18636fa4e7ebf1671badb931c6c",
       "version_major": 2,
       "version_minor": 0
      },
      "text/plain": [
       "Tab(children=(Output(layout=Layout(max_height='600px', max_width='940px', overflow='scroll')), Output(layout=L…"
      ]
     },
     "metadata": {},
     "output_type": "display_data"
    }
   ],
   "source": [
    "%%oc\n",
    "MATCH (n)\n",
    "RETURN COUNT(n)"
   ]
  },
  {
   "cell_type": "markdown",
   "id": "44620d7c",
   "metadata": {},
   "source": [
    "Execute DISTINCT query"
   ]
  },
  {
   "cell_type": "code",
   "execution_count": 16,
   "id": "9ac14aa7",
   "metadata": {},
   "outputs": [
    {
     "data": {
      "application/vnd.jupyter.widget-view+json": {
       "model_id": "4269c852afeb4d2aa9a813c5a6b43fe1",
       "version_major": 2,
       "version_minor": 0
      },
      "text/plain": [
       "Tab(children=(Output(layout=Layout(max_height='600px', max_width='940px', overflow='scroll')), Output(layout=L…"
      ]
     },
     "metadata": {},
     "output_type": "display_data"
    }
   ],
   "source": [
    "%%oc\n",
    "MATCH (e:Entity) WHERE\n",
    "EXISTS(e.service_provider) AND EXISTS(e.sourceID) AND EXISTS(e.valid_until)\n",
    "RETURN DISTINCT(e.service_provider)"
   ]
  },
  {
   "cell_type": "markdown",
   "id": "53e9ccbd",
   "metadata": {},
   "source": [
    "Execute insertion of node including gFD verification (for existing equivalence class), Amazon Neptune does not support CALL procedures"
   ]
  },
  {
   "cell_type": "code",
   "execution_count": 39,
   "id": "edd2b4d4",
   "metadata": {},
   "outputs": [
    {
     "data": {
      "application/vnd.jupyter.widget-view+json": {
       "model_id": "2ead02798be74924af9131343eaf0fc7",
       "version_major": 2,
       "version_minor": 0
      },
      "text/plain": [
       "Tab(children=(Output(layout=Layout(max_height='600px', max_width='940px', overflow='scroll')), Output(layout=L…"
      ]
     },
     "metadata": {},
     "output_type": "display_data"
    }
   ],
   "source": [
    "%%oc\n",
    "MERGE (new:Entity{name: 'new', service_provider: 'Mossack Fonseca', sourceID: 'Panama Papers', valid_until: 'The Panama Papers data is current through 2015'})\n",
    "WITH new AS newnode\n",
    "MATCH (e:Entity) WHERE\n",
    "e.service_provider IS NOT NULL AND\n",
    "e.sourceID IS NOT NULL AND\n",
    "e.valid_until IS NOT NULL\n",
    "WITH e.service_provider AS provider, COUNT(DISTINCT(e.sourceID + e.valid_until)) AS amount\n",
    "WHERE amount > 1\n",
    "RETURN provider, amount"
   ]
  },
  {
   "cell_type": "markdown",
   "id": "4a301816",
   "metadata": {},
   "source": [
    "Delete new node (return count to see that node deleted, not measuring time for this operation)"
   ]
  },
  {
   "cell_type": "code",
   "execution_count": 40,
   "id": "5aa8967e",
   "metadata": {},
   "outputs": [
    {
     "data": {
      "application/vnd.jupyter.widget-view+json": {
       "model_id": "a58afdc135394b51adb17dc8e0672329",
       "version_major": 2,
       "version_minor": 0
      },
      "text/plain": [
       "Tab(children=(Output(layout=Layout(max_height='600px', max_width='940px', overflow='scroll')), Output(layout=L…"
      ]
     },
     "metadata": {},
     "output_type": "display_data"
    }
   ],
   "source": [
    "%%oc\n",
    "MATCH (e:Entity) WHERE e.name = 'new' DELETE e\n",
    "RETURN COUNT(e)"
   ]
  },
  {
   "cell_type": "markdown",
   "id": "2a4a54b8",
   "metadata": {},
   "source": [
    "Execute insertion of node including gFD verification (including new equivalence class), Amazon Neptune does not support CALL procedures"
   ]
  },
  {
   "cell_type": "code",
   "execution_count": 64,
   "id": "98b6a125",
   "metadata": {},
   "outputs": [
    {
     "data": {
      "application/vnd.jupyter.widget-view+json": {
       "model_id": "720274798e124df78da41ea72af083d3",
       "version_major": 2,
       "version_minor": 0
      },
      "text/plain": [
       "Tab(children=(Output(layout=Layout(max_height='600px', max_width='940px', overflow='scroll')), Output(layout=L…"
      ]
     },
     "metadata": {},
     "output_type": "display_data"
    }
   ],
   "source": [
    "%%oc\n",
    "MERGE (new:Entity{name: 'new', service_provider: 'new', sourceID: 'new', valid_until: 'new'})\n",
    "WITH new AS newnode\n",
    "MATCH (e:Entity) WHERE\n",
    "e.service_provider IS NOT NULL AND\n",
    "e.sourceID IS NOT NULL AND\n",
    "e.valid_until IS NOT NULL\n",
    "WITH e.service_provider AS provider, COUNT(DISTINCT(e.sourceID + e.valid_until)) AS amount\n",
    "WHERE amount > 1\n",
    "RETURN provider, amount"
   ]
  },
  {
   "cell_type": "markdown",
   "id": "781274d3",
   "metadata": {},
   "source": [
    "Delete new node (return count to see that node deleted, not measuring time for this operation)"
   ]
  },
  {
   "cell_type": "code",
   "execution_count": 65,
   "id": "38637a1c",
   "metadata": {},
   "outputs": [
    {
     "data": {
      "application/vnd.jupyter.widget-view+json": {
       "model_id": "008beaefcfed435a81ab0ff798e117f2",
       "version_major": 2,
       "version_minor": 0
      },
      "text/plain": [
       "Tab(children=(Output(layout=Layout(max_height='600px', max_width='940px', overflow='scroll')), Output(layout=L…"
      ]
     },
     "metadata": {},
     "output_type": "display_data"
    }
   ],
   "source": [
    "%%oc\n",
    "MATCH (e:Entity) WHERE e.name = 'new' DELETE e\n",
    "RETURN COUNT(e)"
   ]
  },
  {
   "cell_type": "markdown",
   "id": "4f5e0c1b",
   "metadata": {},
   "source": [
    "Normalize graph: Create Provider nodes for each equivalence class"
   ]
  },
  {
   "cell_type": "code",
   "execution_count": 1,
   "id": "08e79b4b",
   "metadata": {
    "scrolled": true
   },
   "outputs": [
    {
     "data": {
      "application/vnd.jupyter.widget-view+json": {
       "model_id": "ac038206e23f433a89e336423821a563",
       "version_major": 2,
       "version_minor": 0
      },
      "text/plain": [
       "Tab(children=(Output(layout=Layout(max_height='600px', max_width='940px', overflow='scroll')), Output(layout=L…"
      ]
     },
     "metadata": {},
     "output_type": "display_data"
    }
   ],
   "source": [
    "%%oc\n",
    "MATCH (e:Entity) WHERE\n",
    "EXISTS(e.service_provider) AND EXISTS(e.sourceID) AND EXISTS(e.valid_until)\n",
    "WITH DISTINCT e.service_provider AS provider, e.sourceID AS ids, e.valid_until AS valid\n",
    "CREATE (p:Provider{service_provider: provider, sourceID: ids, valid_until: valid})"
   ]
  },
  {
   "cell_type": "markdown",
   "id": "215b0e94",
   "metadata": {},
   "source": [
    "Normalize graph: create edges and remove properties related to equivalence class from original nodes"
   ]
  },
  {
   "cell_type": "code",
   "execution_count": 2,
   "id": "096b004e",
   "metadata": {},
   "outputs": [
    {
     "data": {
      "application/vnd.jupyter.widget-view+json": {
       "model_id": "f1ec407247b8491faf38e1745a0cf31c",
       "version_major": 2,
       "version_minor": 0
      },
      "text/plain": [
       "Tab(children=(Output(layout=Layout(max_height='600px', max_width='940px', overflow='scroll')), Output(layout=L…"
      ]
     },
     "metadata": {},
     "output_type": "display_data"
    }
   ],
   "source": [
    "%%oc\n",
    "MATCH (e:Entity),(p:Provider) WHERE\n",
    "EXISTS(e.service_provider) AND EXISTS(e.sourceID) AND EXISTS(e.valid_until) AND\n",
    "e.service_provider = p.service_provider\n",
    "CREATE (e)<-[:PROVIDED_TO]-(p)"
   ]
  },
  {
   "cell_type": "code",
   "execution_count": 7,
   "id": "36a6df12",
   "metadata": {
    "scrolled": false
   },
   "outputs": [
    {
     "data": {
      "application/vnd.jupyter.widget-view+json": {
       "model_id": "deb75dbd5346493d8993867998f94b4d",
       "version_major": 2,
       "version_minor": 0
      },
      "text/plain": [
       "Tab(children=(Output(layout=Layout(overflow='scroll')),), _titles={'0': 'Error'})"
      ]
     },
     "metadata": {},
     "output_type": "display_data"
    }
   ],
   "source": [
    "%%oc\n",
    "MATCH (e:Entity)\n",
    "REMOVE e.service_provider, e.sourceID, e.valid_until"
   ]
  },
  {
   "cell_type": "markdown",
   "id": "fc3a1189",
   "metadata": {},
   "source": [
    "Execute in normalised graph"
   ]
  },
  {
   "cell_type": "markdown",
   "id": "d6475f50",
   "metadata": {},
   "source": [
    "Execute DISTINCT query"
   ]
  },
  {
   "cell_type": "code",
   "execution_count": 28,
   "id": "37d004e3",
   "metadata": {
    "scrolled": false
   },
   "outputs": [
    {
     "data": {
      "application/vnd.jupyter.widget-view+json": {
       "model_id": "c93d6f82bfbd4be093ed0ed76822a82a",
       "version_major": 2,
       "version_minor": 0
      },
      "text/plain": [
       "Tab(children=(Output(layout=Layout(max_height='600px', max_width='940px', overflow='scroll')), Output(layout=L…"
      ]
     },
     "metadata": {},
     "output_type": "display_data"
    }
   ],
   "source": [
    "%%oc\n",
    "MATCH (p:Provider) WHERE\n",
    "EXISTS(p.service_provider) AND EXISTS(p.sourceID) AND EXISTS(p.valid_until)\n",
    "RETURN DISTINCT(p.service_provider)"
   ]
  },
  {
   "cell_type": "markdown",
   "id": "f808a140",
   "metadata": {},
   "source": [
    "Execute insertion of node (for existing equivalence class)"
   ]
  },
  {
   "cell_type": "code",
   "execution_count": 30,
   "id": "7d705872",
   "metadata": {},
   "outputs": [
    {
     "data": {
      "application/vnd.jupyter.widget-view+json": {
       "model_id": "6b4c4aa48adf456eb2b33021d0077b5d",
       "version_major": 2,
       "version_minor": 0
      },
      "text/plain": [
       "Tab(children=(Output(layout=Layout(max_height='600px', max_width='940px', overflow='scroll')), Output(layout=L…"
      ]
     },
     "metadata": {},
     "output_type": "display_data"
    }
   ],
   "source": [
    "%%oc\n",
    "MATCH (p:Provider{service_provider: 'Mossack Fonseca'})\n",
    "MERGE (e:Entity{name: 'new'})<-[r:PROVIDED_TO]-(p)"
   ]
  },
  {
   "cell_type": "markdown",
   "id": "ed856d6a",
   "metadata": {},
   "source": [
    "Delete new node(s) and edges if created (return count to see that delete was succesful, not measuring time for this operation)"
   ]
  },
  {
   "cell_type": "code",
   "execution_count": 32,
   "id": "6f9dfec3",
   "metadata": {},
   "outputs": [
    {
     "data": {
      "application/vnd.jupyter.widget-view+json": {
       "model_id": "3104890a7a364570968c9e18a4bfbf7d",
       "version_major": 2,
       "version_minor": 0
      },
      "text/plain": [
       "Tab(children=(Output(layout=Layout(max_height='600px', max_width='940px', overflow='scroll')), Output(layout=L…"
      ]
     },
     "metadata": {},
     "output_type": "display_data"
    }
   ],
   "source": [
    "%%oc\n",
    "MATCH (e:Entity{name: 'new'})\n",
    "OPTIONAL MATCH (p:Provider{service_provider: 'new'})\n",
    "DETACH DELETE e,p\n",
    "RETURN COUNT(e), COUNT(p)"
   ]
  },
  {
   "cell_type": "markdown",
   "id": "c0a4317b",
   "metadata": {},
   "source": [
    "Execute insertion of node including (including new equivalence class node)"
   ]
  },
  {
   "cell_type": "code",
   "execution_count": 58,
   "id": "b99e0958",
   "metadata": {},
   "outputs": [
    {
     "data": {
      "application/vnd.jupyter.widget-view+json": {
       "model_id": "8cc7070eed1543a3b54c0ebdbd8e5860",
       "version_major": 2,
       "version_minor": 0
      },
      "text/plain": [
       "Tab(children=(Output(layout=Layout(max_height='600px', max_width='940px', overflow='scroll')), Output(layout=L…"
      ]
     },
     "metadata": {},
     "output_type": "display_data"
    }
   ],
   "source": [
    "%%oc\n",
    "MERGE (e:Entity{name: 'new'})<-[r:PROVIDED_TO]-(p:Provider{service_provider: 'new', sourceID: 'new', valid_until: 'new'})"
   ]
  },
  {
   "cell_type": "markdown",
   "id": "dec5f029",
   "metadata": {},
   "source": [
    "Delete new node(s) and edges if created (return count to see that delete was succesful, not measuring time for this operation)"
   ]
  },
  {
   "cell_type": "code",
   "execution_count": 59,
   "id": "bef2d059",
   "metadata": {},
   "outputs": [
    {
     "data": {
      "application/vnd.jupyter.widget-view+json": {
       "model_id": "d0c12704b15945c2b948f2750050cb59",
       "version_major": 2,
       "version_minor": 0
      },
      "text/plain": [
       "Tab(children=(Output(layout=Layout(max_height='600px', max_width='940px', overflow='scroll')), Output(layout=L…"
      ]
     },
     "metadata": {},
     "output_type": "display_data"
    }
   ],
   "source": [
    "%%oc\n",
    "MATCH (e:Entity{name: 'new'})\n",
    "OPTIONAL MATCH (p:Provider{service_provider: 'new'})\n",
    "DETACH DELETE e,p\n",
    "RETURN COUNT(e), COUNT(p)"
   ]
  }
 ],
 "metadata": {
  "kernelspec": {
   "display_name": "Python 3",
   "language": "python",
   "name": "python3"
  },
  "language_info": {
   "codemirror_mode": {
    "name": "ipython",
    "version": 3
   },
   "file_extension": ".py",
   "mimetype": "text/x-python",
   "name": "python",
   "nbconvert_exporter": "python",
   "pygments_lexer": "ipython3",
   "version": "3.10.8"
  }
 },
 "nbformat": 4,
 "nbformat_minor": 5
}
