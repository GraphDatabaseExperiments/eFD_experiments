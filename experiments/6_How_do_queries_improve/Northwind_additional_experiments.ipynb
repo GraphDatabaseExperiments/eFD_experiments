{
 "cells": [
  {
   "cell_type": "code",
   "execution_count": 1,
   "id": "02face9f",
   "metadata": {
    "scrolled": false
   },
   "outputs": [
    {
     "data": {
      "text/plain": [
       "{'status': 'healthy',\n",
       " 'startTime': 'Tue Aug 13 23:06:18 UTC 2024',\n",
       " 'dbEngineVersion': '1.3.2.1.R1',\n",
       " 'role': 'writer',\n",
       " 'dfeQueryEngine': 'viaQueryHint',\n",
       " 'gremlin': {'version': 'tinkerpop-3.7.1'},\n",
       " 'sparql': {'version': 'sparql-1.1'},\n",
       " 'opencypher': {'version': 'Neptune-9.0.20190305-1.0'},\n",
       " 'labMode': {'ObjectIndex': 'disabled',\n",
       "  'ReadWriteConflictDetection': 'enabled'},\n",
       " 'features': {'SlowQueryLogs': 'disabled',\n",
       "  'ResultCache': {'status': 'disabled'},\n",
       "  'IAMAuthentication': 'disabled',\n",
       "  'Streams': 'disabled',\n",
       "  'AuditLog': 'disabled'},\n",
       " 'settings': {'StrictTimeoutValidation': 'false',\n",
       "  'clusterQueryTimeoutInMs': '120000',\n",
       "  'SlowQueryLogsThreshold': '5000'}}"
      ]
     },
     "execution_count": 1,
     "metadata": {},
     "output_type": "execute_result"
    }
   ],
   "source": [
    "%status"
   ]
  },
  {
   "cell_type": "code",
   "execution_count": 4,
   "id": "b54324eb",
   "metadata": {},
   "outputs": [
    {
     "data": {
      "application/vnd.jupyter.widget-view+json": {
       "model_id": "ef4c84c1afcb4138a1f52aa31e3064c0",
       "version_major": 2,
       "version_minor": 0
      },
      "text/plain": [
       "Tab(children=(Output(layout=Layout(max_height='600px', max_width='940px', overflow='scroll')), Output(layout=L…"
      ]
     },
     "metadata": {},
     "output_type": "display_data"
    }
   ],
   "source": [
    "%%oc\n",
    "MATCH (n)\n",
    "DETACH DELETE n"
   ]
  },
  {
   "cell_type": "code",
   "execution_count": 5,
   "id": "f63d60f7",
   "metadata": {
    "scrolled": true
   },
   "outputs": [
    {
     "data": {
      "application/vnd.jupyter.widget-view+json": {
       "model_id": "",
       "version_major": 2,
       "version_minor": 0
      },
      "text/plain": [
       "HBox(children=(Label(value='Source:', layout=Layout(display='flex', justify_content='flex-end', width='16%')),…"
      ]
     },
     "metadata": {},
     "output_type": "display_data"
    },
    {
     "data": {
      "application/vnd.jupyter.widget-view+json": {
       "model_id": "",
       "version_major": 2,
       "version_minor": 0
      },
      "text/plain": [
       "HBox(children=(Label(value='Format:', layout=Layout(display='flex', justify_content='flex-end', width='16%')),…"
      ]
     },
     "metadata": {},
     "output_type": "display_data"
    },
    {
     "data": {
      "application/vnd.jupyter.widget-view+json": {
       "model_id": "",
       "version_major": 2,
       "version_minor": 0
      },
      "text/plain": [
       "HBox(children=(Label(value='Region:', layout=Layout(display='flex', justify_content='flex-end', width='16%')),…"
      ]
     },
     "metadata": {},
     "output_type": "display_data"
    },
    {
     "data": {
      "application/vnd.jupyter.widget-view+json": {
       "model_id": "",
       "version_major": 2,
       "version_minor": 0
      },
      "text/plain": [
       "HBox(children=(Label(value='Fail on Error:', layout=Layout(display='flex', justify_content='flex-end', width='…"
      ]
     },
     "metadata": {},
     "output_type": "display_data"
    },
    {
     "data": {
      "application/vnd.jupyter.widget-view+json": {
       "model_id": "",
       "version_major": 2,
       "version_minor": 0
      },
      "text/plain": [
       "HBox(children=(Label(value='Load ARN:', layout=Layout(display='flex', justify_content='flex-end', width='16%')…"
      ]
     },
     "metadata": {},
     "output_type": "display_data"
    },
    {
     "data": {
      "application/vnd.jupyter.widget-view+json": {
       "model_id": "",
       "version_major": 2,
       "version_minor": 0
      },
      "text/plain": [
       "HBox(children=(Label(value='Mode:', layout=Layout(display='flex', justify_content='flex-end', width='16%')), D…"
      ]
     },
     "metadata": {},
     "output_type": "display_data"
    },
    {
     "data": {
      "application/vnd.jupyter.widget-view+json": {
       "model_id": "",
       "version_major": 2,
       "version_minor": 0
      },
      "text/plain": [
       "HBox(children=(Label(value='Parallelism:', layout=Layout(display='flex', justify_content='flex-end', width='16…"
      ]
     },
     "metadata": {},
     "output_type": "display_data"
    },
    {
     "data": {
      "application/vnd.jupyter.widget-view+json": {
       "model_id": "",
       "version_major": 2,
       "version_minor": 0
      },
      "text/plain": [
       "HBox(children=(Label(value='Update Single Cardinality:', layout=Layout(display='flex', justify_content='flex-e…"
      ]
     },
     "metadata": {},
     "output_type": "display_data"
    },
    {
     "data": {
      "application/vnd.jupyter.widget-view+json": {
       "model_id": "",
       "version_major": 2,
       "version_minor": 0
      },
      "text/plain": [
       "HBox(children=(Label(value='Queue Request:', layout=Layout(display='flex', justify_content='flex-end', width='…"
      ]
     },
     "metadata": {},
     "output_type": "display_data"
    },
    {
     "data": {
      "application/vnd.jupyter.widget-view+json": {
       "model_id": "",
       "version_major": 2,
       "version_minor": 0
      },
      "text/plain": [
       "HBox(children=(Label(value='Dependencies:', layout=Layout(display='flex', justify_content='flex-end', width='1…"
      ]
     },
     "metadata": {},
     "output_type": "display_data"
    },
    {
     "data": {
      "application/vnd.jupyter.widget-view+json": {
       "model_id": "",
       "version_major": 2,
       "version_minor": 0
      },
      "text/plain": [
       "HBox(children=(Label(value='User Provided Edge Ids:', layout=Layout(display='none', justify_content='flex-end'…"
      ]
     },
     "metadata": {},
     "output_type": "display_data"
    },
    {
     "data": {
      "application/vnd.jupyter.widget-view+json": {
       "model_id": "",
       "version_major": 2,
       "version_minor": 0
      },
      "text/plain": [
       "HBox(children=(Label(value='Allow Empty Strings:', layout=Layout(display='flex', justify_content='flex-end', w…"
      ]
     },
     "metadata": {},
     "output_type": "display_data"
    },
    {
     "data": {
      "application/vnd.jupyter.widget-view+json": {
       "model_id": "",
       "version_major": 2,
       "version_minor": 0
      },
      "text/plain": [
       "HBox(children=(Label(value='Named Graph URI:', layout=Layout(display='none', justify_content='flex-end', width…"
      ]
     },
     "metadata": {},
     "output_type": "display_data"
    },
    {
     "data": {
      "application/vnd.jupyter.widget-view+json": {
       "model_id": "",
       "version_major": 2,
       "version_minor": 0
      },
      "text/plain": [
       "HBox(children=(Label(value='Base URI:', layout=Layout(display='none', justify_content='flex-end', width='16%')…"
      ]
     },
     "metadata": {},
     "output_type": "display_data"
    },
    {
     "data": {
      "application/vnd.jupyter.widget-view+json": {
       "model_id": "",
       "version_major": 2,
       "version_minor": 0
      },
      "text/plain": [
       "HBox(children=(Label(value='Poll Load Status:', layout=Layout(display='flex', justify_content='flex-end', widt…"
      ]
     },
     "metadata": {},
     "output_type": "display_data"
    },
    {
     "data": {
      "application/vnd.jupyter.widget-view+json": {
       "model_id": "",
       "version_major": 2,
       "version_minor": 0
      },
      "text/plain": [
       "Button(description='Submit', style=ButtonStyle())"
      ]
     },
     "metadata": {},
     "output_type": "display_data"
    },
    {
     "data": {
      "application/vnd.jupyter.widget-view+json": {
       "model_id": "2dd761dd82944ccfbd861174baf5cb6e",
       "version_major": 2,
       "version_minor": 0
      },
      "text/plain": [
       "Output()"
      ]
     },
     "metadata": {},
     "output_type": "display_data"
    }
   ],
   "source": [
    "%load"
   ]
  },
  {
   "cell_type": "markdown",
   "id": "03d1d39a",
   "metadata": {},
   "source": [
    "Clean data so that gFD is not violated"
   ]
  },
  {
   "cell_type": "code",
   "execution_count": 158,
   "id": "eee1834b",
   "metadata": {
    "scrolled": true
   },
   "outputs": [
    {
     "data": {
      "application/vnd.jupyter.widget-view+json": {
       "model_id": "cde1238ec6604d80b9c1db7268e83372",
       "version_major": 2,
       "version_minor": 0
      },
      "text/plain": [
       "Tab(children=(Output(layout=Layout(max_height='600px', max_width='940px', overflow='scroll')), Output(layout=L…"
      ]
     },
     "metadata": {},
     "output_type": "display_data"
    }
   ],
   "source": [
    "%%oc\n",
    "MATCH (o:Order)\n",
    "WITH o.customerID as id, COUNT(DISTINCT(o.shipName)) AS amount\n",
    "WHERE amount > 1\n",
    "RETURN id"
   ]
  },
  {
   "cell_type": "code",
   "execution_count": 160,
   "id": "d2eae51d",
   "metadata": {
    "scrolled": true
   },
   "outputs": [
    {
     "data": {
      "application/vnd.jupyter.widget-view+json": {
       "model_id": "d3d526701cb44e4b8949e5a6112f5883",
       "version_major": 2,
       "version_minor": 0
      },
      "text/plain": [
       "Tab(children=(Output(layout=Layout(max_height='600px', max_width='940px', overflow='scroll')), Output(layout=L…"
      ]
     },
     "metadata": {},
     "output_type": "display_data"
    }
   ],
   "source": [
    "%%oc\n",
    "MATCH (o:Order{customerID: \"ALFKI\"})\n",
    "SET o.shipName = \"Alfred's Futterkise\""
   ]
  },
  {
   "cell_type": "markdown",
   "id": "5480b98c",
   "metadata": {},
   "source": [
    "Execute DISTINCT query"
   ]
  },
  {
   "cell_type": "code",
   "execution_count": 161,
   "id": "08e04e9a",
   "metadata": {},
   "outputs": [
    {
     "data": {
      "application/vnd.jupyter.widget-view+json": {
       "model_id": "96df8290a3674e668aa524152e0b3273",
       "version_major": 2,
       "version_minor": 0
      },
      "text/plain": [
       "Tab(children=(Output(layout=Layout(max_height='600px', max_width='940px', overflow='scroll')), Output(layout=L…"
      ]
     },
     "metadata": {},
     "output_type": "display_data"
    }
   ],
   "source": [
    "%%oc\n",
    "MATCH (o:Order) WHERE\n",
    "EXISTS(o.customerID) AND\n",
    "EXISTS(o.shipCity) AND\n",
    "EXISTS(o.shipName) AND\n",
    "EXISTS(o.shipPostalCode) AND\n",
    "EXISTS(o.shipCountry) AND\n",
    "EXISTS(o.shipAddress) AND\n",
    "EXISTS(o.shipRegion)\n",
    "RETURN DISTINCT(o.customerID)"
   ]
  },
  {
   "cell_type": "markdown",
   "id": "b94af593",
   "metadata": {},
   "source": [
    "Execute insertion of node including gFD verification (for existing equivalence class), Amazon Neptune does not support CALL procedures"
   ]
  },
  {
   "cell_type": "code",
   "execution_count": 74,
   "id": "98c9beaf",
   "metadata": {
    "scrolled": false
   },
   "outputs": [
    {
     "data": {
      "application/vnd.jupyter.widget-view+json": {
       "model_id": "",
       "version_major": 2,
       "version_minor": 0
      },
      "text/plain": [
       "Tab(children=(Output(layout=Layout(max_height='600px', max_width='940px', overflow='scroll')), Output(layout=L…"
      ]
     },
     "metadata": {},
     "output_type": "display_data"
    }
   ],
   "source": [
    "%%oc\n",
    "MERGE (new:Order{orderID: 99999, customerID: \"SAVEA\", shipCity: \"Boise\", shipName: \"Save-a-lot Markets\", shipPostalCode: 83720, shipCountry: \"USA\", shipAddress: \"187 Suffolk Ln.\", shipRegion: \"ID\"})\n",
    "WITH new AS new_node\n",
    "MATCH (o:Order) WHERE\n",
    "EXISTS(o.customerID) AND\n",
    "EXISTS(o.shipCity) AND\n",
    "EXISTS(o.shipName) AND\n",
    "EXISTS(o.shipPostalCode) AND\n",
    "EXISTS(o.shipCountry) AND\n",
    "EXISTS(o.shipAddress) AND\n",
    "EXISTS(o.shipRegion)\n",
    "WITH o.customerID AS ids, COUNT(DISTINCT(o.shipCity + o.shipName + o.shipPostalCode + o.shipCountry + o.shipAddress + o.shipRegion)) AS amount\n",
    "WHERE amount > 1\n",
    "RETURN ids, amount"
   ]
  },
  {
   "cell_type": "markdown",
   "id": "2c576be7",
   "metadata": {},
   "source": [
    "Delete new node (return count to see that node deleted, not measuring time for this operation)"
   ]
  },
  {
   "cell_type": "code",
   "execution_count": 162,
   "id": "e8756c30",
   "metadata": {
    "scrolled": true
   },
   "outputs": [
    {
     "data": {
      "application/vnd.jupyter.widget-view+json": {
       "model_id": "",
       "version_major": 2,
       "version_minor": 0
      },
      "text/plain": [
       "Tab(children=(Output(layout=Layout(max_height='600px', max_width='940px', overflow='scroll')), Output(layout=L…"
      ]
     },
     "metadata": {},
     "output_type": "display_data"
    }
   ],
   "source": [
    "%%oc\n",
    "MATCH (o:Order{orderID: 99999}) DELETE o\n",
    "RETURN COUNT(o)"
   ]
  },
  {
   "cell_type": "markdown",
   "id": "01ce57d0",
   "metadata": {},
   "source": [
    "Execute insertion of node including gFD verification (including new equivalence class), Amazon Neptune does not support CALL procedures"
   ]
  },
  {
   "cell_type": "code",
   "execution_count": 163,
   "id": "7f3da6f1",
   "metadata": {},
   "outputs": [
    {
     "data": {
      "application/vnd.jupyter.widget-view+json": {
       "model_id": "",
       "version_major": 2,
       "version_minor": 0
      },
      "text/plain": [
       "Tab(children=(Output(layout=Layout(max_height='600px', max_width='940px', overflow='scroll')), Output(layout=L…"
      ]
     },
     "metadata": {},
     "output_type": "display_data"
    }
   ],
   "source": [
    "%%oc\n",
    "MERGE (new:Order{orderID: 99999, customerID: \"new\", shipCity: \"new\", shipName: \"new\", shipPostalCode: 99999, shipCountry: \"new\", shipAddress: \"new\", shipRegion: \"new\"})\n",
    "WITH new AS new_node\n",
    "MATCH (o:Order) WHERE\n",
    "EXISTS(o.customerID) AND\n",
    "EXISTS(o.shipCity) AND\n",
    "EXISTS(o.shipName) AND\n",
    "EXISTS(o.shipPostalCode) AND\n",
    "EXISTS(o.shipCountry) AND\n",
    "EXISTS(o.shipAddress) AND\n",
    "EXISTS(o.shipRegion)\n",
    "WITH o.customerID AS ids, COUNT(DISTINCT(o.shipCity + o.shipName + o.shipPostalCode + o.shipCountry + o.shipAddress + o.shipRegion)) AS amount\n",
    "WHERE amount > 1\n",
    "RETURN ids, amount"
   ]
  },
  {
   "cell_type": "markdown",
   "id": "635604b8",
   "metadata": {},
   "source": [
    "Delete new node (return count to see that node deleted, not measuring time for this operation)"
   ]
  },
  {
   "cell_type": "code",
   "execution_count": 164,
   "id": "3d389009",
   "metadata": {
    "scrolled": true
   },
   "outputs": [
    {
     "data": {
      "application/vnd.jupyter.widget-view+json": {
       "model_id": "",
       "version_major": 2,
       "version_minor": 0
      },
      "text/plain": [
       "Tab(children=(Output(layout=Layout(max_height='600px', max_width='940px', overflow='scroll')), Output(layout=L…"
      ]
     },
     "metadata": {},
     "output_type": "display_data"
    }
   ],
   "source": [
    "%%oc\n",
    "MATCH (o:Order{orderID: 99999}) DELETE o\n",
    "RETURN COUNT(o)"
   ]
  },
  {
   "cell_type": "markdown",
   "id": "f5317a58",
   "metadata": {},
   "source": [
    "Normalize graph: Update customer nodes (rather than creating new nodes) for each equivalence class"
   ]
  },
  {
   "cell_type": "code",
   "execution_count": 165,
   "id": "e0f61cad",
   "metadata": {},
   "outputs": [
    {
     "data": {
      "application/vnd.jupyter.widget-view+json": {
       "model_id": "ef72a7e2e7574f7fa75e3d7e9d20d593",
       "version_major": 2,
       "version_minor": 0
      },
      "text/plain": [
       "Tab(children=(Output(layout=Layout(max_height='600px', max_width='940px', overflow='scroll')), Output(layout=L…"
      ]
     },
     "metadata": {},
     "output_type": "display_data"
    }
   ],
   "source": [
    "%%oc\n",
    "MATCH (o:Order),(c:Customer) WHERE\n",
    "EXISTS(c.customerID) AND\n",
    "EXISTS(o.customerID) AND\n",
    "(o.customerID = c.customerID) AND\n",
    "EXISTS(o.shipCity) AND\n",
    "EXISTS(o.shipName) AND\n",
    "EXISTS(o.shipPostalCode) AND\n",
    "EXISTS(o.shipCountry) AND\n",
    "EXISTS(o.shipAddress) AND\n",
    "EXISTS(o.shipRegion)\n",
    "SET c.shipCity = o.shipCity\n",
    "REMOVE o.shipCity\n",
    "SET c.shipName = o.shipName\n",
    "REMOVE o.shipName\n",
    "SET c.shipPostalCode = o.shipPostalCode\n",
    "REMOVE o.shipPostalCode\n",
    "SET c.shipCountry = o.shipCountry\n",
    "REMOVE o.shipCountry\n",
    "SET c.shipAddress = o.shipAddress\n",
    "REMOVE o.shipAddress\n",
    "SET c.shipRegion = o.shipRegion\n",
    "REMOVE o.shipRegion"
   ]
  },
  {
   "cell_type": "markdown",
   "id": "127dd1ec",
   "metadata": {},
   "source": [
    "Normalize graph: No need to create new edges as in this instance no new nodes have been created\n",
    "\n",
    "Remove properties related to equivalence class from original nodes"
   ]
  },
  {
   "cell_type": "code",
   "execution_count": 166,
   "id": "098aa581",
   "metadata": {
    "scrolled": false
   },
   "outputs": [
    {
     "data": {
      "application/vnd.jupyter.widget-view+json": {
       "model_id": "305b8134ff5349899a6c4da09c50d6d6",
       "version_major": 2,
       "version_minor": 0
      },
      "text/plain": [
       "Tab(children=(Output(layout=Layout(max_height='600px', max_width='940px', overflow='scroll')), Output(layout=L…"
      ]
     },
     "metadata": {},
     "output_type": "display_data"
    }
   ],
   "source": [
    "%%oc\n",
    "MATCH (o:Order) REMOVE o.customerID"
   ]
  },
  {
   "cell_type": "markdown",
   "id": "9c690b83",
   "metadata": {},
   "source": [
    "Exectute in normalised graph"
   ]
  },
  {
   "cell_type": "markdown",
   "id": "889425c3",
   "metadata": {},
   "source": [
    "Execute DISTINCT query"
   ]
  },
  {
   "cell_type": "code",
   "execution_count": 167,
   "id": "47fca9b5",
   "metadata": {
    "scrolled": true
   },
   "outputs": [
    {
     "data": {
      "application/vnd.jupyter.widget-view+json": {
       "model_id": "cab2d5ee137444bcbaf84a09d701b182",
       "version_major": 2,
       "version_minor": 0
      },
      "text/plain": [
       "Tab(children=(Output(layout=Layout(max_height='600px', max_width='940px', overflow='scroll')), Output(layout=L…"
      ]
     },
     "metadata": {},
     "output_type": "display_data"
    }
   ],
   "source": [
    "%%oc\n",
    "MATCH (c:Customer) WHERE\n",
    "EXISTS(c.customerID) AND\n",
    "EXISTS(c.shipCity) AND\n",
    "EXISTS(c.shipName) AND\n",
    "EXISTS(c.shipPostalCode) AND\n",
    "EXISTS(c.shipCountry) AND\n",
    "EXISTS(c.shipAddress) AND\n",
    "EXISTS(c.shipRegion)\n",
    "RETURN DISTINCT(c.customerID)"
   ]
  },
  {
   "cell_type": "markdown",
   "id": "8a181c3c",
   "metadata": {},
   "source": [
    "Execute insertion of node (for existing equivalence class)"
   ]
  },
  {
   "cell_type": "code",
   "execution_count": 199,
   "id": "ead0d793",
   "metadata": {
    "scrolled": false
   },
   "outputs": [
    {
     "data": {
      "application/vnd.jupyter.widget-view+json": {
       "model_id": "aed80566215c468fa63f830719a7860b",
       "version_major": 2,
       "version_minor": 0
      },
      "text/plain": [
       "Tab(children=(Output(layout=Layout(max_height='600px', max_width='940px', overflow='scroll')), Output(layout=L…"
      ]
     },
     "metadata": {},
     "output_type": "display_data"
    }
   ],
   "source": [
    "%%oc\n",
    "MATCH (c:Customer{customerID: 'SAVEA'}) MERGE (o:Order{orderID: 99999})<-[r:PURCHASED]-(c)"
   ]
  },
  {
   "cell_type": "markdown",
   "id": "6815a3fd",
   "metadata": {},
   "source": [
    "Delete new node(s) and edges if created (return count to see that delete was succesful, not measuring time for this operation)"
   ]
  },
  {
   "cell_type": "code",
   "execution_count": 200,
   "id": "7739c81c",
   "metadata": {
    "scrolled": true
   },
   "outputs": [
    {
     "data": {
      "application/vnd.jupyter.widget-view+json": {
       "model_id": "d22035db025e4659b465897115b182e1",
       "version_major": 2,
       "version_minor": 0
      },
      "text/plain": [
       "Tab(children=(Output(layout=Layout(max_height='600px', max_width='940px', overflow='scroll')), Output(layout=L…"
      ]
     },
     "metadata": {},
     "output_type": "display_data"
    }
   ],
   "source": [
    "%%oc\n",
    "MATCH (o:Order{orderID: 99999}) OPTIONAL MATCH (c:Customer{customerID: 'new'}) DETACH DELETE o,c\n",
    "RETURN COUNT(o), COUNT(c)"
   ]
  },
  {
   "cell_type": "markdown",
   "id": "619cb6e9",
   "metadata": {},
   "source": [
    "Execute insertion of node including (including new equivalence class node)"
   ]
  },
  {
   "cell_type": "code",
   "execution_count": 227,
   "id": "110c629d",
   "metadata": {},
   "outputs": [
    {
     "data": {
      "application/vnd.jupyter.widget-view+json": {
       "model_id": "2ea2d7e536b34f56a42bbe77d11f1a8b",
       "version_major": 2,
       "version_minor": 0
      },
      "text/plain": [
       "Tab(children=(Output(layout=Layout(max_height='600px', max_width='940px', overflow='scroll')), Output(layout=L…"
      ]
     },
     "metadata": {},
     "output_type": "display_data"
    }
   ],
   "source": [
    "%%oc\n",
    "MERGE (o:Order{orderID: 99999})<-[r:PURCHASED]-(c:Customer{customerID: 'new', shipCity: 'new', shipName: 'new', shipPostalCode: 99999, shipCountry: 'new', shipAddress: 'new', shipRegion: 'new'})"
   ]
  },
  {
   "cell_type": "markdown",
   "id": "a52a4a07",
   "metadata": {},
   "source": [
    "Delete new node(s) and edges if created (return count to see that delete was succesful, not measuring time for this operation)"
   ]
  },
  {
   "cell_type": "code",
   "execution_count": 228,
   "id": "984fb252",
   "metadata": {
    "scrolled": true
   },
   "outputs": [
    {
     "data": {
      "application/vnd.jupyter.widget-view+json": {
       "model_id": "975e1f396cc14103bad1e00697f57b15",
       "version_major": 2,
       "version_minor": 0
      },
      "text/plain": [
       "Tab(children=(Output(layout=Layout(max_height='600px', max_width='940px', overflow='scroll')), Output(layout=L…"
      ]
     },
     "metadata": {},
     "output_type": "display_data"
    }
   ],
   "source": [
    "%%oc\n",
    "MATCH (o:Order{orderID: 99999}) OPTIONAL MATCH (c:Customer{customerID: 'new'}) DETACH DELETE o,c\n",
    "RETURN COUNT(o), COUNT(c)"
   ]
  }
 ],
 "metadata": {
  "kernelspec": {
   "display_name": "Python 3",
   "language": "python",
   "name": "python3"
  },
  "language_info": {
   "codemirror_mode": {
    "name": "ipython",
    "version": 3
   },
   "file_extension": ".py",
   "mimetype": "text/x-python",
   "name": "python",
   "nbconvert_exporter": "python",
   "pygments_lexer": "ipython3",
   "version": "3.10.8"
  }
 },
 "nbformat": 4,
 "nbformat_minor": 5
}
