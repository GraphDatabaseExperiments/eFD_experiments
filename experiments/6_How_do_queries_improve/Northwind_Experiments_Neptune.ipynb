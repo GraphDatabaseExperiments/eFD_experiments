{
 "cells": [
  {
   "cell_type": "markdown",
   "id": "b976bcb7",
   "metadata": {},
   "source": [
    "Check connection to cluster is healthy"
   ]
  },
  {
   "cell_type": "code",
   "execution_count": 7,
   "id": "8ac8bfcc",
   "metadata": {},
   "outputs": [
    {
     "data": {
      "text/plain": [
       "{'status': 'healthy',\n",
       " 'startTime': 'Sat May 20 04:26:30 UTC 2023',\n",
       " 'dbEngineVersion': '1.2.0.2.R3',\n",
       " 'role': 'writer',\n",
       " 'dfeQueryEngine': 'viaQueryHint',\n",
       " 'gremlin': {'version': 'tinkerpop-3.5.5'},\n",
       " 'sparql': {'version': 'sparql-1.1'},\n",
       " 'opencypher': {'version': 'Neptune-9.0.20190305-1.0'},\n",
       " 'labMode': {'ObjectIndex': 'disabled',\n",
       "  'ReadWriteConflictDetection': 'enabled'},\n",
       " 'features': {'ResultCache': {'status': 'disabled'},\n",
       "  'IAMAuthentication': 'disabled',\n",
       "  'Streams': 'disabled',\n",
       "  'AuditLog': 'disabled'},\n",
       " 'settings': {'clusterQueryTimeoutInMs': '120000'}}"
      ]
     },
     "execution_count": 7,
     "metadata": {},
     "output_type": "execute_result"
    }
   ],
   "source": [
    "%status"
   ]
  },
  {
   "cell_type": "markdown",
   "id": "34e1c584",
   "metadata": {},
   "source": [
    "Test if the dataset is empty or not"
   ]
  },
  {
   "cell_type": "code",
   "execution_count": 48,
   "id": "7ef5819c",
   "metadata": {},
   "outputs": [
    {
     "data": {
      "application/vnd.jupyter.widget-view+json": {
       "model_id": "ff2083f285a74d729b67ce0b81701c1f",
       "version_major": 2,
       "version_minor": 0
      },
      "text/plain": [
       "Tab(children=(Output(layout=Layout(max_height='600px', max_width='940px', overflow='scroll')), Output(layout=L…"
      ]
     },
     "metadata": {},
     "output_type": "display_data"
    }
   ],
   "source": [
    "%%oc\n",
    "MATCH (n)\n",
    "RETURN COUNT(n)"
   ]
  },
  {
   "cell_type": "markdown",
   "id": "e69c34d0",
   "metadata": {},
   "source": [
    "Delete all nodes and relationships"
   ]
  },
  {
   "cell_type": "code",
   "execution_count": 36,
   "id": "3fc7ba67",
   "metadata": {},
   "outputs": [
    {
     "data": {
      "application/vnd.jupyter.widget-view+json": {
       "model_id": "a0a5b9fa18224ab9be22ec19f9294241",
       "version_major": 2,
       "version_minor": 0
      },
      "text/plain": [
       "Tab(children=(Output(layout=Layout(overflow='scroll')),), _titles={'0': 'Error'})"
      ]
     },
     "metadata": {},
     "output_type": "display_data"
    }
   ],
   "source": [
    "%%oc\n",
    "MATCH (n) WITH n LIMIT 100000\n",
    "DETACH DELETE n\n",
    "RETURN COUNT(*)"
   ]
  },
  {
   "cell_type": "markdown",
   "id": "ae9f7a2e",
   "metadata": {},
   "source": [
    "Alternative for resetting database (for large instances)\n",
    "\n",
    "Generate token to reset database"
   ]
  },
  {
   "cell_type": "code",
   "execution_count": 8,
   "id": "8b38f9c7",
   "metadata": {
    "scrolled": true
   },
   "outputs": [
    {
     "data": {
      "text/plain": [
       "{'status': '200 OK',\n",
       " 'payload': {'token': '32c41bec-0a9d-0a31-8fd2-d53791f5467a'}}"
      ]
     },
     "execution_count": 8,
     "metadata": {},
     "output_type": "execute_result"
    }
   ],
   "source": [
    "%db_reset --generate-token"
   ]
  },
  {
   "cell_type": "markdown",
   "id": "9ca1902e",
   "metadata": {},
   "source": [
    "Reset database using token"
   ]
  },
  {
   "cell_type": "code",
   "execution_count": 9,
   "id": "001cff4b",
   "metadata": {},
   "outputs": [
    {
     "data": {
      "application/vnd.jupyter.widget-view+json": {
       "model_id": "b92142c4a6cf4ca7a57ba5412782238e",
       "version_major": 2,
       "version_minor": 0
      },
      "text/plain": [
       "Tab(children=(Output(layout=Layout(overflow='scroll')),), _titles={'0': 'Error'})"
      ]
     },
     "metadata": {},
     "output_type": "display_data"
    }
   ],
   "source": [
    "%db_reset --token '32c41bec-0a9d-0a31-8fd2-d53791f5467a'"
   ]
  },
  {
   "cell_type": "markdown",
   "id": "7d80ea5b",
   "metadata": {},
   "source": [
    "Load graph data from S3 bucket\n",
    "\n",
    "Source: s3://northwind-graph-data\n",
    "\n",
    "Load ARN: arn:aws:iam::925004103030:role/NeptuneLoadFromS3"
   ]
  },
  {
   "cell_type": "code",
   "execution_count": 38,
   "id": "408119b1",
   "metadata": {
    "scrolled": true
   },
   "outputs": [
    {
     "data": {
      "application/vnd.jupyter.widget-view+json": {
       "model_id": "",
       "version_major": 2,
       "version_minor": 0
      },
      "text/plain": [
       "HBox(children=(Label(value='Source:', layout=Layout(display='flex', justify_content='flex-end', width='16%')),…"
      ]
     },
     "metadata": {},
     "output_type": "display_data"
    },
    {
     "data": {
      "application/vnd.jupyter.widget-view+json": {
       "model_id": "",
       "version_major": 2,
       "version_minor": 0
      },
      "text/plain": [
       "HBox(children=(Label(value='Format:', layout=Layout(display='flex', justify_content='flex-end', width='16%')),…"
      ]
     },
     "metadata": {},
     "output_type": "display_data"
    },
    {
     "data": {
      "application/vnd.jupyter.widget-view+json": {
       "model_id": "",
       "version_major": 2,
       "version_minor": 0
      },
      "text/plain": [
       "HBox(children=(Label(value='Region:', layout=Layout(display='flex', justify_content='flex-end', width='16%')),…"
      ]
     },
     "metadata": {},
     "output_type": "display_data"
    },
    {
     "data": {
      "application/vnd.jupyter.widget-view+json": {
       "model_id": "",
       "version_major": 2,
       "version_minor": 0
      },
      "text/plain": [
       "HBox(children=(Label(value='Load ARN:', layout=Layout(display='flex', justify_content='flex-end', width='16%')…"
      ]
     },
     "metadata": {},
     "output_type": "display_data"
    },
    {
     "data": {
      "application/vnd.jupyter.widget-view+json": {
       "model_id": "",
       "version_major": 2,
       "version_minor": 0
      },
      "text/plain": [
       "HBox(children=(Label(value='Mode:', layout=Layout(display='flex', justify_content='flex-end', width='16%')), D…"
      ]
     },
     "metadata": {},
     "output_type": "display_data"
    },
    {
     "data": {
      "application/vnd.jupyter.widget-view+json": {
       "model_id": "",
       "version_major": 2,
       "version_minor": 0
      },
      "text/plain": [
       "HBox(children=(Label(value='Fail on Error:', layout=Layout(display='flex', justify_content='flex-end', width='…"
      ]
     },
     "metadata": {},
     "output_type": "display_data"
    },
    {
     "data": {
      "application/vnd.jupyter.widget-view+json": {
       "model_id": "",
       "version_major": 2,
       "version_minor": 0
      },
      "text/plain": [
       "HBox(children=(Label(value='Parallelism:', layout=Layout(display='flex', justify_content='flex-end', width='16…"
      ]
     },
     "metadata": {},
     "output_type": "display_data"
    },
    {
     "data": {
      "application/vnd.jupyter.widget-view+json": {
       "model_id": "",
       "version_major": 2,
       "version_minor": 0
      },
      "text/plain": [
       "HBox(children=(Label(value='Update Single Cardinality:', layout=Layout(display='flex', justify_content='flex-e…"
      ]
     },
     "metadata": {},
     "output_type": "display_data"
    },
    {
     "data": {
      "application/vnd.jupyter.widget-view+json": {
       "model_id": "",
       "version_major": 2,
       "version_minor": 0
      },
      "text/plain": [
       "HBox(children=(Label(value='Queue Request:', layout=Layout(display='flex', justify_content='flex-end', width='…"
      ]
     },
     "metadata": {},
     "output_type": "display_data"
    },
    {
     "data": {
      "application/vnd.jupyter.widget-view+json": {
       "model_id": "",
       "version_major": 2,
       "version_minor": 0
      },
      "text/plain": [
       "HBox(children=(Label(value='Dependencies:', layout=Layout(display='flex', justify_content='flex-end', width='1…"
      ]
     },
     "metadata": {},
     "output_type": "display_data"
    },
    {
     "data": {
      "application/vnd.jupyter.widget-view+json": {
       "model_id": "",
       "version_major": 2,
       "version_minor": 0
      },
      "text/plain": [
       "HBox(children=(Label(value='Poll Load Status:', layout=Layout(display='flex', justify_content='flex-end', widt…"
      ]
     },
     "metadata": {},
     "output_type": "display_data"
    },
    {
     "data": {
      "application/vnd.jupyter.widget-view+json": {
       "model_id": "",
       "version_major": 2,
       "version_minor": 0
      },
      "text/plain": [
       "HBox(children=(Label(value='User Provided Edge Ids:', layout=Layout(display='none', justify_content='flex-end'…"
      ]
     },
     "metadata": {},
     "output_type": "display_data"
    },
    {
     "data": {
      "application/vnd.jupyter.widget-view+json": {
       "model_id": "",
       "version_major": 2,
       "version_minor": 0
      },
      "text/plain": [
       "HBox(children=(Label(value='Allow Empty Strings:', layout=Layout(display='flex', justify_content='flex-end', w…"
      ]
     },
     "metadata": {},
     "output_type": "display_data"
    },
    {
     "data": {
      "application/vnd.jupyter.widget-view+json": {
       "model_id": "",
       "version_major": 2,
       "version_minor": 0
      },
      "text/plain": [
       "HBox(children=(Label(value='Named Graph URI:', layout=Layout(display='none', justify_content='flex-end', width…"
      ]
     },
     "metadata": {},
     "output_type": "display_data"
    },
    {
     "data": {
      "application/vnd.jupyter.widget-view+json": {
       "model_id": "",
       "version_major": 2,
       "version_minor": 0
      },
      "text/plain": [
       "HBox(children=(Label(value='Base URI:', layout=Layout(display='none', justify_content='flex-end', width='16%')…"
      ]
     },
     "metadata": {},
     "output_type": "display_data"
    },
    {
     "data": {
      "application/vnd.jupyter.widget-view+json": {
       "model_id": "",
       "version_major": 2,
       "version_minor": 0
      },
      "text/plain": [
       "Button(description='Submit', style=ButtonStyle())"
      ]
     },
     "metadata": {},
     "output_type": "display_data"
    },
    {
     "data": {
      "application/vnd.jupyter.widget-view+json": {
       "model_id": "74a731299e2542aa9ae91ac980f0170a",
       "version_major": 2,
       "version_minor": 0
      },
      "text/plain": [
       "Output()"
      ]
     },
     "metadata": {},
     "output_type": "display_data"
    }
   ],
   "source": [
    "%load"
   ]
  },
  {
   "cell_type": "markdown",
   "id": "bbd83e31",
   "metadata": {},
   "source": [
    "Check loading status (replace Load ID with current ID)"
   ]
  },
  {
   "cell_type": "code",
   "execution_count": 6,
   "id": "685340fd",
   "metadata": {
    "scrolled": true
   },
   "outputs": [
    {
     "name": "stdout",
     "output_type": "stream",
     "text": [
      "{\n",
      "  \"status\": \"200 OK\",\n",
      "  \"payload\": {\n",
      "    \"feedCount\": [\n",
      "      {\n",
      "        \"LOAD_COMPLETED\": 1\n",
      "      }\n",
      "    ],\n",
      "    \"overallStatus\": {\n",
      "      \"fullUri\": \"s3://graph-import\",\n",
      "      \"runNumber\": 1,\n",
      "      \"retryNumber\": 0,\n",
      "      \"status\": \"LOAD_COMPLETED\",\n",
      "      \"totalTimeSpent\": 2041,\n",
      "      \"startTime\": 1683249579,\n",
      "      \"totalRecords\": 21486375,\n",
      "      \"totalDuplicates\": 0,\n",
      "      \"parsingErrors\": 0,\n",
      "      \"datatypeMismatchErrors\": 0,\n",
      "      \"insertErrors\": 0\n",
      "    }\n",
      "  }\n",
      "}\n"
     ]
    }
   ],
   "source": [
    "%load_status 38b999bc-c99c-48fd-b7e6-179673cf9d5a"
   ]
  },
  {
   "cell_type": "markdown",
   "id": "e12c7775",
   "metadata": {},
   "source": [
    "Execute aggreation query in denormalized graph"
   ]
  },
  {
   "cell_type": "code",
   "execution_count": 55,
   "id": "02670b88",
   "metadata": {
    "scrolled": true
   },
   "outputs": [
    {
     "data": {
      "application/vnd.jupyter.widget-view+json": {
       "model_id": "2ffa46e5a7bd4e4692eed77fc16fe5d9",
       "version_major": 2,
       "version_minor": 0
      },
      "text/plain": [
       "Tab(children=(Output(layout=Layout(max_height='600px', max_width='940px', overflow='scroll')), Output(layout=L…"
      ]
     },
     "metadata": {},
     "output_type": "display_data"
    }
   ],
   "source": [
    "%%oc\n",
    "MATCH (o:Order) WHERE\n",
    "EXISTS(o.customerID) AND\n",
    "EXISTS(o.shipCity) AND\n",
    "EXISTS(o.shipName) AND\n",
    "EXISTS(o.shipPostalCode) AND\n",
    "EXISTS(o.shipCountry) AND\n",
    "EXISTS(o.shipAddress) AND\n",
    "EXISTS(o.shipRegion)\n",
    "WITH o.customerID AS orders, COUNT(*) AS amount\n",
    "RETURN min(amount), max(amount), avg(amount)"
   ]
  },
  {
   "cell_type": "markdown",
   "id": "b79c7a2b",
   "metadata": {},
   "source": [
    "Execute update on denormalized graph (min redundancy)"
   ]
  },
  {
   "cell_type": "code",
   "execution_count": 65,
   "id": "b51a73ab",
   "metadata": {},
   "outputs": [
    {
     "data": {
      "application/vnd.jupyter.widget-view+json": {
       "model_id": "1653f6ee6c61420b971562d970dc5d4f",
       "version_major": 2,
       "version_minor": 0
      },
      "text/plain": [
       "Tab(children=(Output(layout=Layout(max_height='600px', max_width='940px', overflow='scroll')), Output(layout=L…"
      ]
     },
     "metadata": {},
     "output_type": "display_data"
    }
   ],
   "source": [
    "%%oc\n",
    "MATCH (o:Order) WHERE\n",
    "EXISTS(o.customerID) AND\n",
    "EXISTS(o.shipCity) AND\n",
    "EXISTS(o.shipName) AND\n",
    "EXISTS(o.shipPostalCode) AND\n",
    "EXISTS(o.shipCountry) AND\n",
    "EXISTS(o.shipAddress) AND\n",
    "EXISTS(o.shipRegion) AND\n",
    "o.customerID = 'SAVEA'\n",
    "SET o.shipCountry = 'United States'"
   ]
  },
  {
   "cell_type": "markdown",
   "id": "00d28944",
   "metadata": {},
   "source": [
    "Execute update on denormalized graph (avg redundancy)"
   ]
  },
  {
   "cell_type": "code",
   "execution_count": 57,
   "id": "3e70504b",
   "metadata": {},
   "outputs": [
    {
     "data": {
      "application/vnd.jupyter.widget-view+json": {
       "model_id": "581239292c7946c8b245cc17ea915646",
       "version_major": 2,
       "version_minor": 0
      },
      "text/plain": [
       "Tab(children=(Output(layout=Layout(max_height='600px', max_width='940px', overflow='scroll')), Output(layout=L…"
      ]
     },
     "metadata": {},
     "output_type": "display_data"
    }
   ],
   "source": [
    "%%oc\n",
    "MATCH (o:Order) WHERE\n",
    "EXISTS(o.customerID) AND\n",
    "EXISTS(o.shipCity) AND\n",
    "EXISTS(o.shipName) AND\n",
    "EXISTS(o.shipPostalCode) AND\n",
    "EXISTS(o.shipCountry) AND\n",
    "EXISTS(o.shipAddress) AND\n",
    "EXISTS(o.shipRegion) AND\n",
    "o.customerID = 'SEVES'\n",
    "SET o.shipCountry = 'United Kingdom'"
   ]
  },
  {
   "cell_type": "markdown",
   "id": "9014c65a",
   "metadata": {},
   "source": [
    "Execute update on denormalized graph (max redundancy)"
   ]
  },
  {
   "cell_type": "code",
   "execution_count": 58,
   "id": "a2927925",
   "metadata": {},
   "outputs": [
    {
     "data": {
      "application/vnd.jupyter.widget-view+json": {
       "model_id": "450af6d2dc194f8eadf4b788d941a11f",
       "version_major": 2,
       "version_minor": 0
      },
      "text/plain": [
       "Tab(children=(Output(layout=Layout(max_height='600px', max_width='940px', overflow='scroll')), Output(layout=L…"
      ]
     },
     "metadata": {},
     "output_type": "display_data"
    }
   ],
   "source": [
    "%%oc\n",
    "MATCH (o:Order) WHERE\n",
    "EXISTS(o.customerID) AND\n",
    "EXISTS(o.shipCity) AND\n",
    "EXISTS(o.shipName) AND\n",
    "EXISTS(o.shipPostalCode) AND\n",
    "EXISTS(o.shipCountry) AND\n",
    "EXISTS(o.shipAddress) AND\n",
    "EXISTS(o.shipRegion) AND\n",
    "o.customerID = 'SAVEA'\n",
    "SET o.shipCountry = 'United States'"
   ]
  },
  {
   "cell_type": "markdown",
   "id": "ced560f3",
   "metadata": {},
   "source": [
    "Normalize graph: Update customer nodes (rather than creating new nodes) for each equivalence class"
   ]
  },
  {
   "cell_type": "code",
   "execution_count": 66,
   "id": "363c90c8",
   "metadata": {},
   "outputs": [
    {
     "data": {
      "application/vnd.jupyter.widget-view+json": {
       "model_id": "574871c319474558b76c5a97f98e2d3f",
       "version_major": 2,
       "version_minor": 0
      },
      "text/plain": [
       "Tab(children=(Output(layout=Layout(max_height='600px', max_width='940px', overflow='scroll')), Output(layout=L…"
      ]
     },
     "metadata": {},
     "output_type": "display_data"
    }
   ],
   "source": [
    "%%oc\n",
    "MATCH (o:Order),(c:Customer) WHERE\n",
    "EXISTS(c.customerID) AND\n",
    "EXISTS(o.customerID) AND\n",
    "(o.customerID = c.customerID) AND\n",
    "EXISTS(o.shipCity) AND\n",
    "EXISTS(o.shipName) AND\n",
    "EXISTS(o.shipPostalCode) AND\n",
    "EXISTS(o.shipCountry) AND\n",
    "EXISTS(o.shipAddress) AND\n",
    "EXISTS(o.shipRegion)\n",
    "SET c.shipCity = o.shipCity\n",
    "REMOVE o.shipCity\n",
    "SET c.shipName = o.shipName\n",
    "REMOVE o.shipName\n",
    "SET c.shipPostalCode = o.shipPostalCode\n",
    "REMOVE o.shipPostalCode\n",
    "SET c.shipCountry = o.shipCountry\n",
    "REMOVE o.shipCountry\n",
    "SET c.shipAddress = o.shipAddress\n",
    "REMOVE o.shipAddress\n",
    "SET c.shipRegion = o.shipRegion\n",
    "REMOVE o.shipRegion"
   ]
  },
  {
   "cell_type": "markdown",
   "id": "a0f18bfc",
   "metadata": {},
   "source": [
    "Normalize graph: No need to create new edges as in this instance no new nodes have been created"
   ]
  },
  {
   "cell_type": "markdown",
   "id": "78a0dc57",
   "metadata": {},
   "source": [
    "Remove properties related to equivalence class from original nodes"
   ]
  },
  {
   "cell_type": "code",
   "execution_count": 67,
   "id": "37b8020d",
   "metadata": {},
   "outputs": [
    {
     "data": {
      "application/vnd.jupyter.widget-view+json": {
       "model_id": "cb4f12c097914d9188abaffe12a70ac2",
       "version_major": 2,
       "version_minor": 0
      },
      "text/plain": [
       "Tab(children=(Output(layout=Layout(max_height='600px', max_width='940px', overflow='scroll')), Output(layout=L…"
      ]
     },
     "metadata": {},
     "output_type": "display_data"
    }
   ],
   "source": [
    "%%oc\n",
    "MATCH (o:Order) REMOVE o.customerID"
   ]
  },
  {
   "cell_type": "markdown",
   "id": "c4365c85",
   "metadata": {},
   "source": [
    "Execute aggreation query on normalized graph"
   ]
  },
  {
   "cell_type": "code",
   "execution_count": 81,
   "id": "df318dc5",
   "metadata": {},
   "outputs": [
    {
     "data": {
      "application/vnd.jupyter.widget-view+json": {
       "model_id": "8cd2c2df1f6b4d59a426d1401410bc78",
       "version_major": 2,
       "version_minor": 0
      },
      "text/plain": [
       "Tab(children=(Output(layout=Layout(max_height='600px', max_width='940px', overflow='scroll')), Output(layout=L…"
      ]
     },
     "metadata": {},
     "output_type": "display_data"
    }
   ],
   "source": [
    "%%oc\n",
    "MATCH (c:Customer) WHERE\n",
    "EXISTS(c.customerID) AND\n",
    "EXISTS(c.shipCity) AND\n",
    "EXISTS(c.shipName) AND\n",
    "EXISTS(c.shipPostalCode) AND\n",
    "EXISTS(c.shipCountry) AND\n",
    "EXISTS(c.shipAddress) AND\n",
    "EXISTS(c.shipRegion)\n",
    "WITH SIZE((c)--()) AS amount\n",
    "RETURN min(amount), max(amount), avg(amount)"
   ]
  },
  {
   "cell_type": "markdown",
   "id": "e4a4181f",
   "metadata": {},
   "source": [
    "Execute update on normalized graph (min redundancy)"
   ]
  },
  {
   "cell_type": "code",
   "execution_count": 77,
   "id": "942c4488",
   "metadata": {},
   "outputs": [
    {
     "data": {
      "application/vnd.jupyter.widget-view+json": {
       "model_id": "f1d244e52c16455baa92c99d020a78e2",
       "version_major": 2,
       "version_minor": 0
      },
      "text/plain": [
       "Tab(children=(Output(layout=Layout(max_height='600px', max_width='940px', overflow='scroll')), Output(layout=L…"
      ]
     },
     "metadata": {},
     "output_type": "display_data"
    }
   ],
   "source": [
    "%%oc\n",
    "MATCH (c:Customer) WHERE \n",
    "EXISTS(c.customerID) AND\n",
    "EXISTS(c.shipCity) AND\n",
    "EXISTS(c.shipName) AND\n",
    "EXISTS(c.shipPostalCode) AND\n",
    "EXISTS(c.shipCountry) AND\n",
    "EXISTS(c.shipAddress) AND\n",
    "EXISTS(c.shipRegion) AND\n",
    "c.customerID = 'CENTC'\n",
    "SET c.shipCountry = 'Estados Unidos Mexicanos'"
   ]
  },
  {
   "cell_type": "markdown",
   "id": "cf357c45",
   "metadata": {},
   "source": [
    "Execute update on normalized graph (avg redundancy)"
   ]
  },
  {
   "cell_type": "code",
   "execution_count": 71,
   "id": "07aac4cf",
   "metadata": {},
   "outputs": [
    {
     "data": {
      "application/vnd.jupyter.widget-view+json": {
       "model_id": "3e8aa61e88064314b209f37edfef77a2",
       "version_major": 2,
       "version_minor": 0
      },
      "text/plain": [
       "Tab(children=(Output(layout=Layout(max_height='600px', max_width='940px', overflow='scroll')), Output(layout=L…"
      ]
     },
     "metadata": {},
     "output_type": "display_data"
    }
   ],
   "source": [
    "%%oc\n",
    "MATCH (c:Customer) WHERE \n",
    "EXISTS(c.customerID) AND\n",
    "EXISTS(c.shipCity) AND\n",
    "EXISTS(c.shipName) AND\n",
    "EXISTS(c.shipPostalCode) AND\n",
    "EXISTS(c.shipCountry) AND\n",
    "EXISTS(c.shipAddress) AND\n",
    "EXISTS(c.shipRegion) AND\n",
    "c.customerID = 'SEVES'\n",
    "SET c.shipCountry = 'United Kingdom'"
   ]
  },
  {
   "cell_type": "markdown",
   "id": "bcec2d87",
   "metadata": {},
   "source": [
    "Execute update on normalized graph (max redundancy)"
   ]
  },
  {
   "cell_type": "code",
   "execution_count": 72,
   "id": "d53dc145",
   "metadata": {},
   "outputs": [
    {
     "data": {
      "application/vnd.jupyter.widget-view+json": {
       "model_id": "93bae32ae5c8456e86113c8f37748109",
       "version_major": 2,
       "version_minor": 0
      },
      "text/plain": [
       "Tab(children=(Output(layout=Layout(max_height='600px', max_width='940px', overflow='scroll')), Output(layout=L…"
      ]
     },
     "metadata": {},
     "output_type": "display_data"
    }
   ],
   "source": [
    "%%oc\n",
    "MATCH (c:Customer) WHERE \n",
    "EXISTS(c.customerID) AND\n",
    "EXISTS(c.shipCity) AND\n",
    "EXISTS(c.shipName) AND\n",
    "EXISTS(c.shipPostalCode) AND\n",
    "EXISTS(c.shipCountry) AND\n",
    "EXISTS(c.shipAddress) AND\n",
    "EXISTS(c.shipRegion) AND\n",
    "c.customerID = 'SAVEA'\n",
    "SET c.shipCountry = 'United States'"
   ]
  }
 ],
 "metadata": {
  "kernelspec": {
   "display_name": "Python 3",
   "language": "python",
   "name": "python3"
  },
  "language_info": {
   "codemirror_mode": {
    "name": "ipython",
    "version": 3
   },
   "file_extension": ".py",
   "mimetype": "text/x-python",
   "name": "python",
   "nbconvert_exporter": "python",
   "pygments_lexer": "ipython3",
   "version": "3.10.8"
  }
 },
 "nbformat": 4,
 "nbformat_minor": 5
}
