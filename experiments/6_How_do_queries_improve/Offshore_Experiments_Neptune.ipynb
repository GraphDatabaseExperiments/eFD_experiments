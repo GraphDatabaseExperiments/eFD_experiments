{
 "cells": [
  {
   "cell_type": "markdown",
   "id": "b976bcb7",
   "metadata": {},
   "source": [
    "Check connection to cluster is healthy"
   ]
  },
  {
   "cell_type": "code",
   "execution_count": 1,
   "id": "8ac8bfcc",
   "metadata": {},
   "outputs": [
    {
     "data": {
      "text/plain": [
       "{'status': 'healthy',\n",
       " 'startTime': 'Sat May 20 04:26:30 UTC 2023',\n",
       " 'dbEngineVersion': '1.2.0.2.R3',\n",
       " 'role': 'writer',\n",
       " 'dfeQueryEngine': 'viaQueryHint',\n",
       " 'gremlin': {'version': 'tinkerpop-3.5.5'},\n",
       " 'sparql': {'version': 'sparql-1.1'},\n",
       " 'opencypher': {'version': 'Neptune-9.0.20190305-1.0'},\n",
       " 'labMode': {'ObjectIndex': 'disabled',\n",
       "  'ReadWriteConflictDetection': 'enabled'},\n",
       " 'features': {'ResultCache': {'status': 'disabled'},\n",
       "  'IAMAuthentication': 'disabled',\n",
       "  'Streams': 'disabled',\n",
       "  'AuditLog': 'disabled'},\n",
       " 'settings': {'clusterQueryTimeoutInMs': '120000'}}"
      ]
     },
     "execution_count": 1,
     "metadata": {},
     "output_type": "execute_result"
    }
   ],
   "source": [
    "%status"
   ]
  },
  {
   "cell_type": "markdown",
   "id": "34e1c584",
   "metadata": {},
   "source": [
    "Test if the dataset is empty or not"
   ]
  },
  {
   "cell_type": "code",
   "execution_count": 9,
   "id": "7ef5819c",
   "metadata": {},
   "outputs": [
    {
     "data": {
      "application/vnd.jupyter.widget-view+json": {
       "model_id": "3dca13963d1642fa878778636835a960",
       "version_major": 2,
       "version_minor": 0
      },
      "text/plain": [
       "Tab(children=(Output(layout=Layout(max_height='600px', max_width='940px', overflow='scroll')), Output(layout=L…"
      ]
     },
     "metadata": {},
     "output_type": "display_data"
    }
   ],
   "source": [
    "%%oc\n",
    "MATCH (n)\n",
    "RETURN COUNT(n)"
   ]
  },
  {
   "cell_type": "markdown",
   "id": "e69c34d0",
   "metadata": {},
   "source": [
    "Delete all nodes and relationships"
   ]
  },
  {
   "cell_type": "code",
   "execution_count": 3,
   "id": "3fc7ba67",
   "metadata": {},
   "outputs": [
    {
     "data": {
      "application/vnd.jupyter.widget-view+json": {
       "model_id": "e848bc46d6f1493d90235d3e705ed7b1",
       "version_major": 2,
       "version_minor": 0
      },
      "text/plain": [
       "Tab(children=(Output(layout=Layout(max_height='600px', max_width='940px', overflow='scroll')), Output(layout=L…"
      ]
     },
     "metadata": {},
     "output_type": "display_data"
    }
   ],
   "source": [
    "%%oc\n",
    "MATCH (n)\n",
    "DETACH DELETE n"
   ]
  },
  {
   "cell_type": "markdown",
   "id": "7d80ea5b",
   "metadata": {},
   "source": [
    "Load graph data from S3 bucket\n",
    "\n",
    "Source: s3://offshore-graph-data\n",
    "Load ARN: arn:aws:iam::925004103030:role/NeptuneLoadFromS3"
   ]
  },
  {
   "cell_type": "code",
   "execution_count": 8,
   "id": "408119b1",
   "metadata": {},
   "outputs": [
    {
     "data": {
      "application/vnd.jupyter.widget-view+json": {
       "model_id": "",
       "version_major": 2,
       "version_minor": 0
      },
      "text/plain": [
       "HBox(children=(Label(value='Source:', layout=Layout(display='flex', justify_content='flex-end', width='16%')),…"
      ]
     },
     "metadata": {},
     "output_type": "display_data"
    },
    {
     "data": {
      "application/vnd.jupyter.widget-view+json": {
       "model_id": "",
       "version_major": 2,
       "version_minor": 0
      },
      "text/plain": [
       "HBox(children=(Label(value='Format:', layout=Layout(display='flex', justify_content='flex-end', width='16%')),…"
      ]
     },
     "metadata": {},
     "output_type": "display_data"
    },
    {
     "data": {
      "application/vnd.jupyter.widget-view+json": {
       "model_id": "",
       "version_major": 2,
       "version_minor": 0
      },
      "text/plain": [
       "HBox(children=(Label(value='Region:', layout=Layout(display='flex', justify_content='flex-end', width='16%')),…"
      ]
     },
     "metadata": {},
     "output_type": "display_data"
    },
    {
     "data": {
      "application/vnd.jupyter.widget-view+json": {
       "model_id": "",
       "version_major": 2,
       "version_minor": 0
      },
      "text/plain": [
       "HBox(children=(Label(value='Load ARN:', layout=Layout(display='flex', justify_content='flex-end', width='16%')…"
      ]
     },
     "metadata": {},
     "output_type": "display_data"
    },
    {
     "data": {
      "application/vnd.jupyter.widget-view+json": {
       "model_id": "",
       "version_major": 2,
       "version_minor": 0
      },
      "text/plain": [
       "HBox(children=(Label(value='Mode:', layout=Layout(display='flex', justify_content='flex-end', width='16%')), D…"
      ]
     },
     "metadata": {},
     "output_type": "display_data"
    },
    {
     "data": {
      "application/vnd.jupyter.widget-view+json": {
       "model_id": "",
       "version_major": 2,
       "version_minor": 0
      },
      "text/plain": [
       "HBox(children=(Label(value='Fail on Error:', layout=Layout(display='flex', justify_content='flex-end', width='…"
      ]
     },
     "metadata": {},
     "output_type": "display_data"
    },
    {
     "data": {
      "application/vnd.jupyter.widget-view+json": {
       "model_id": "",
       "version_major": 2,
       "version_minor": 0
      },
      "text/plain": [
       "HBox(children=(Label(value='Parallelism:', layout=Layout(display='flex', justify_content='flex-end', width='16…"
      ]
     },
     "metadata": {},
     "output_type": "display_data"
    },
    {
     "data": {
      "application/vnd.jupyter.widget-view+json": {
       "model_id": "",
       "version_major": 2,
       "version_minor": 0
      },
      "text/plain": [
       "HBox(children=(Label(value='Update Single Cardinality:', layout=Layout(display='flex', justify_content='flex-e…"
      ]
     },
     "metadata": {},
     "output_type": "display_data"
    },
    {
     "data": {
      "application/vnd.jupyter.widget-view+json": {
       "model_id": "",
       "version_major": 2,
       "version_minor": 0
      },
      "text/plain": [
       "HBox(children=(Label(value='Queue Request:', layout=Layout(display='flex', justify_content='flex-end', width='…"
      ]
     },
     "metadata": {},
     "output_type": "display_data"
    },
    {
     "data": {
      "application/vnd.jupyter.widget-view+json": {
       "model_id": "",
       "version_major": 2,
       "version_minor": 0
      },
      "text/plain": [
       "HBox(children=(Label(value='Dependencies:', layout=Layout(display='flex', justify_content='flex-end', width='1…"
      ]
     },
     "metadata": {},
     "output_type": "display_data"
    },
    {
     "data": {
      "application/vnd.jupyter.widget-view+json": {
       "model_id": "",
       "version_major": 2,
       "version_minor": 0
      },
      "text/plain": [
       "HBox(children=(Label(value='Poll Load Status:', layout=Layout(display='flex', justify_content='flex-end', widt…"
      ]
     },
     "metadata": {},
     "output_type": "display_data"
    },
    {
     "data": {
      "application/vnd.jupyter.widget-view+json": {
       "model_id": "",
       "version_major": 2,
       "version_minor": 0
      },
      "text/plain": [
       "HBox(children=(Label(value='User Provided Edge Ids:', layout=Layout(display='none', justify_content='flex-end'…"
      ]
     },
     "metadata": {},
     "output_type": "display_data"
    },
    {
     "data": {
      "application/vnd.jupyter.widget-view+json": {
       "model_id": "",
       "version_major": 2,
       "version_minor": 0
      },
      "text/plain": [
       "HBox(children=(Label(value='Allow Empty Strings:', layout=Layout(display='flex', justify_content='flex-end', w…"
      ]
     },
     "metadata": {},
     "output_type": "display_data"
    },
    {
     "data": {
      "application/vnd.jupyter.widget-view+json": {
       "model_id": "",
       "version_major": 2,
       "version_minor": 0
      },
      "text/plain": [
       "HBox(children=(Label(value='Named Graph URI:', layout=Layout(display='none', justify_content='flex-end', width…"
      ]
     },
     "metadata": {},
     "output_type": "display_data"
    },
    {
     "data": {
      "application/vnd.jupyter.widget-view+json": {
       "model_id": "",
       "version_major": 2,
       "version_minor": 0
      },
      "text/plain": [
       "HBox(children=(Label(value='Base URI:', layout=Layout(display='none', justify_content='flex-end', width='16%')…"
      ]
     },
     "metadata": {},
     "output_type": "display_data"
    },
    {
     "data": {
      "application/vnd.jupyter.widget-view+json": {
       "model_id": "",
       "version_major": 2,
       "version_minor": 0
      },
      "text/plain": [
       "Button(description='Submit', style=ButtonStyle())"
      ]
     },
     "metadata": {},
     "output_type": "display_data"
    },
    {
     "data": {
      "application/vnd.jupyter.widget-view+json": {
       "model_id": "f81a317b8da44b3294f052fb3b1e6e5a",
       "version_major": 2,
       "version_minor": 0
      },
      "text/plain": [
       "Output()"
      ]
     },
     "metadata": {},
     "output_type": "display_data"
    }
   ],
   "source": [
    "%load"
   ]
  },
  {
   "cell_type": "markdown",
   "id": "bbd83e31",
   "metadata": {},
   "source": [
    "Check loading status (replace Load ID with current ID)"
   ]
  },
  {
   "cell_type": "code",
   "execution_count": 6,
   "id": "685340fd",
   "metadata": {},
   "outputs": [
    {
     "name": "stdout",
     "output_type": "stream",
     "text": [
      "{\n",
      "  \"status\": \"200 OK\",\n",
      "  \"payload\": {\n",
      "    \"feedCount\": [\n",
      "      {\n",
      "        \"LOAD_COMPLETED\": 1\n",
      "      }\n",
      "    ],\n",
      "    \"overallStatus\": {\n",
      "      \"fullUri\": \"s3://graph-import\",\n",
      "      \"runNumber\": 1,\n",
      "      \"retryNumber\": 0,\n",
      "      \"status\": \"LOAD_COMPLETED\",\n",
      "      \"totalTimeSpent\": 2041,\n",
      "      \"startTime\": 1683249579,\n",
      "      \"totalRecords\": 21486375,\n",
      "      \"totalDuplicates\": 0,\n",
      "      \"parsingErrors\": 0,\n",
      "      \"datatypeMismatchErrors\": 0,\n",
      "      \"insertErrors\": 0\n",
      "    }\n",
      "  }\n",
      "}\n"
     ]
    }
   ],
   "source": [
    "%load_status 38b999bc-c99c-48fd-b7e6-179673cf9d5a"
   ]
  },
  {
   "cell_type": "markdown",
   "id": "e12c7775",
   "metadata": {},
   "source": [
    "Execute aggreation query in denormalized graph"
   ]
  },
  {
   "cell_type": "code",
   "execution_count": 10,
   "id": "02670b88",
   "metadata": {
    "scrolled": true
   },
   "outputs": [
    {
     "data": {
      "application/vnd.jupyter.widget-view+json": {
       "model_id": "4cd914736d2b4c27986391f40c4d8296",
       "version_major": 2,
       "version_minor": 0
      },
      "text/plain": [
       "Tab(children=(Output(layout=Layout(max_height='600px', max_width='940px', overflow='scroll')), Output(layout=L…"
      ]
     },
     "metadata": {},
     "output_type": "display_data"
    }
   ],
   "source": [
    "%%oc\n",
    "MATCH (e:Entity) WHERE\n",
    "EXISTS(e.service_provider) AND EXISTS(e.sourceID) AND EXISTS(e.valid_until)\n",
    "WITH e.service_provider AS provider, COUNT(*) AS amount\n",
    "RETURN min(amount), max(amount), avg(amount)"
   ]
  },
  {
   "cell_type": "markdown",
   "id": "c9fe397f",
   "metadata": {},
   "source": [
    "Execute update on denormalized graph (min redundancy)"
   ]
  },
  {
   "cell_type": "code",
   "execution_count": 15,
   "id": "f7c4c513",
   "metadata": {},
   "outputs": [
    {
     "data": {
      "application/vnd.jupyter.widget-view+json": {
       "model_id": "598bfcd22a264529a5d2b688eb4f6cfe",
       "version_major": 2,
       "version_minor": 0
      },
      "text/plain": [
       "Tab(children=(Output(layout=Layout(max_height='600px', max_width='940px', overflow='scroll')), Output(layout=L…"
      ]
     },
     "metadata": {},
     "output_type": "display_data"
    }
   ],
   "source": [
    "%%oc\n",
    "MATCH (e:Entity)\n",
    "WHERE EXISTS(e.service_provider) AND EXISTS(e.sourceID) AND EXISTS(e.valid_until)\n",
    "AND e.service_provider = 'Appleby'\n",
    "SET e.valid_until = 'Appleby data is current through 2015'"
   ]
  },
  {
   "cell_type": "markdown",
   "id": "6fc7e22c",
   "metadata": {},
   "source": [
    "Execute update on denormalized graph (avg redundancy)"
   ]
  },
  {
   "cell_type": "code",
   "execution_count": 14,
   "id": "0f00cd57",
   "metadata": {},
   "outputs": [
    {
     "data": {
      "application/vnd.jupyter.widget-view+json": {
       "model_id": "d629ebaf04924b3099ca21c9aa8c9a30",
       "version_major": 2,
       "version_minor": 0
      },
      "text/plain": [
       "Tab(children=(Output(layout=Layout(max_height='600px', max_width='940px', overflow='scroll')), Output(layout=L…"
      ]
     },
     "metadata": {},
     "output_type": "display_data"
    }
   ],
   "source": [
    "%%oc\n",
    "MATCH (e:Entity)\n",
    "WHERE EXISTS(e.service_provider) AND EXISTS(e.sourceID) AND EXISTS(e.valid_until)\n",
    "AND e.service_provider = 'Portcullis Trustnet'\n",
    "SET e.valid_until = 'The Offshore Leaks data is current through 2011'"
   ]
  },
  {
   "cell_type": "markdown",
   "id": "dba761cb",
   "metadata": {},
   "source": [
    "Execute update on denormalized graph (max redundancy)"
   ]
  },
  {
   "cell_type": "code",
   "execution_count": 13,
   "id": "1d0de060",
   "metadata": {},
   "outputs": [
    {
     "data": {
      "application/vnd.jupyter.widget-view+json": {
       "model_id": "0cc4a3de70a043f2960187c2f6f74262",
       "version_major": 2,
       "version_minor": 0
      },
      "text/plain": [
       "Tab(children=(Output(layout=Layout(max_height='600px', max_width='940px', overflow='scroll')), Output(layout=L…"
      ]
     },
     "metadata": {},
     "output_type": "display_data"
    }
   ],
   "source": [
    "%%oc\n",
    "MATCH (e:Entity)\n",
    "WHERE EXISTS(e.service_provider) AND EXISTS(e.sourceID) AND EXISTS(e.valid_until)\n",
    "AND e.service_provider = 'Mossack Fonseca'\n",
    "SET e.valid_until = 'The Panama Papers data is current through 2016'"
   ]
  },
  {
   "cell_type": "markdown",
   "id": "ced560f3",
   "metadata": {},
   "source": [
    "Normalize graph: create new nodes for each equivalence class"
   ]
  },
  {
   "cell_type": "code",
   "execution_count": 16,
   "id": "363c90c8",
   "metadata": {},
   "outputs": [
    {
     "data": {
      "application/vnd.jupyter.widget-view+json": {
       "model_id": "b1ae4363c6834d9abd15f9f17758a2c4",
       "version_major": 2,
       "version_minor": 0
      },
      "text/plain": [
       "Tab(children=(Output(layout=Layout(max_height='600px', max_width='940px', overflow='scroll')), Output(layout=L…"
      ]
     },
     "metadata": {},
     "output_type": "display_data"
    }
   ],
   "source": [
    "%%oc\n",
    "MATCH (e:Entity) WHERE\n",
    "EXISTS(e.service_provider) AND EXISTS(e.sourceID) AND EXISTS(e.valid_until)\n",
    "WITH DISTINCT e.service_provider AS provider, e.sourceID AS ids, e.valid_until AS valid\n",
    "CREATE (p:Provider{service_provider: provider, sourceID: ids, valid_until: valid})"
   ]
  },
  {
   "cell_type": "markdown",
   "id": "a0f18bfc",
   "metadata": {},
   "source": [
    "Normalize graph: create edges and remove properties related to equivalence class from original nodes"
   ]
  },
  {
   "cell_type": "code",
   "execution_count": 17,
   "id": "a88864a4",
   "metadata": {
    "scrolled": true
   },
   "outputs": [
    {
     "data": {
      "application/vnd.jupyter.widget-view+json": {
       "model_id": "42f4c6cfd3034f76aaf2bfccbdf8932e",
       "version_major": 2,
       "version_minor": 0
      },
      "text/plain": [
       "Tab(children=(Output(layout=Layout(max_height='600px', max_width='940px', overflow='scroll')), Output(layout=L…"
      ]
     },
     "metadata": {},
     "output_type": "display_data"
    }
   ],
   "source": [
    "%%oc\n",
    "MATCH (e:Entity),(p:Provider) WHERE\n",
    "EXISTS(e.service_provider) AND EXISTS(e.sourceID) AND EXISTS(e.valid_until) AND\n",
    "e.service_provider = p.service_provider\n",
    "CREATE (e)<-[:PROVIDED_TO]-(p)"
   ]
  },
  {
   "cell_type": "markdown",
   "id": "78a0dc57",
   "metadata": {},
   "source": [
    "Remove properties related to equivalence class from original nodes"
   ]
  },
  {
   "cell_type": "code",
   "execution_count": 19,
   "id": "37b8020d",
   "metadata": {},
   "outputs": [
    {
     "data": {
      "application/vnd.jupyter.widget-view+json": {
       "model_id": "570afe3efeda4570828de9935dd258c0",
       "version_major": 2,
       "version_minor": 0
      },
      "text/plain": [
       "Tab(children=(Output(layout=Layout(overflow='scroll')),), _titles={'0': 'Error'})"
      ]
     },
     "metadata": {},
     "output_type": "display_data"
    }
   ],
   "source": [
    "%%oc\n",
    "MATCH (e:Entity)\n",
    "REMOVE e.service_provider, e.sourceID, e.valid_until"
   ]
  },
  {
   "cell_type": "markdown",
   "id": "c4365c85",
   "metadata": {},
   "source": [
    "Execute aggreation query on normalized graph"
   ]
  },
  {
   "cell_type": "code",
   "execution_count": 20,
   "id": "df318dc5",
   "metadata": {},
   "outputs": [
    {
     "data": {
      "application/vnd.jupyter.widget-view+json": {
       "model_id": "26c6911d5ae04d88b7115372ac8cbf4b",
       "version_major": 2,
       "version_minor": 0
      },
      "text/plain": [
       "Tab(children=(Output(layout=Layout(max_height='600px', max_width='940px', overflow='scroll')), Output(layout=L…"
      ]
     },
     "metadata": {},
     "output_type": "display_data"
    }
   ],
   "source": [
    "%%oc\n",
    "MATCH (p:Provider) WHERE\n",
    "EXISTS(p.service_provider) AND EXISTS(p.sourceID) AND EXISTS(p.valid_until)\n",
    "WITH SIZE((p)--()) AS amount\n",
    "RETURN min(amount), max(amount), avg(amount)"
   ]
  },
  {
   "cell_type": "markdown",
   "id": "e4a4181f",
   "metadata": {},
   "source": [
    "Execute update on normalized graph (min redundancy)"
   ]
  },
  {
   "cell_type": "code",
   "execution_count": 21,
   "id": "942c4488",
   "metadata": {},
   "outputs": [
    {
     "data": {
      "application/vnd.jupyter.widget-view+json": {
       "model_id": "32d3b457cffd46d1b89ee80c5c96a4a2",
       "version_major": 2,
       "version_minor": 0
      },
      "text/plain": [
       "Tab(children=(Output(layout=Layout(max_height='600px', max_width='940px', overflow='scroll')), Output(layout=L…"
      ]
     },
     "metadata": {},
     "output_type": "display_data"
    }
   ],
   "source": [
    "%%oc\n",
    "MATCH (p:Provider)\n",
    "WHERE EXISTS(p.service_provider) AND EXISTS(p.sourceID) AND EXISTS(p.valid_until)\n",
    "AND p.service_provider = 'Appleby'\n",
    "SET p.valid_until = 'Appleby data is current through 2015'"
   ]
  },
  {
   "cell_type": "markdown",
   "id": "cf357c45",
   "metadata": {},
   "source": [
    "Execute update on normalized graph (avg redundancy)"
   ]
  },
  {
   "cell_type": "code",
   "execution_count": 22,
   "id": "07aac4cf",
   "metadata": {},
   "outputs": [
    {
     "data": {
      "application/vnd.jupyter.widget-view+json": {
       "model_id": "e0a18abc6fd14b2a8ca2a7671aa3f394",
       "version_major": 2,
       "version_minor": 0
      },
      "text/plain": [
       "Tab(children=(Output(layout=Layout(max_height='600px', max_width='940px', overflow='scroll')), Output(layout=L…"
      ]
     },
     "metadata": {},
     "output_type": "display_data"
    }
   ],
   "source": [
    "%%oc\n",
    "MATCH (p:Provider)\n",
    "WHERE EXISTS(p.service_provider) AND EXISTS(p.sourceID) AND EXISTS(p.valid_until)\n",
    "AND p.service_provider = 'Portcullis Trustnet'\n",
    "SET p.valid_until = 'The Offshore Leaks data is current through 2011'"
   ]
  },
  {
   "cell_type": "markdown",
   "id": "4ef6082e",
   "metadata": {},
   "source": [
    "Execute update on normalized graph (max redundancy)"
   ]
  },
  {
   "cell_type": "code",
   "execution_count": 23,
   "id": "56f8aa3b",
   "metadata": {},
   "outputs": [
    {
     "data": {
      "application/vnd.jupyter.widget-view+json": {
       "model_id": "40680809eb694853afe328c88cfb1b78",
       "version_major": 2,
       "version_minor": 0
      },
      "text/plain": [
       "Tab(children=(Output(layout=Layout(max_height='600px', max_width='940px', overflow='scroll')), Output(layout=L…"
      ]
     },
     "metadata": {},
     "output_type": "display_data"
    }
   ],
   "source": [
    "%%oc\n",
    "MATCH (p:Provider)\n",
    "WHERE EXISTS(p.service_provider) AND EXISTS(p.sourceID) AND EXISTS(p.valid_until)\n",
    "AND p.service_provider = 'Mossack Fonseca'\n",
    "SET p.valid_until = 'The Panama Papers data is current through 2016'"
   ]
  }
 ],
 "metadata": {
  "kernelspec": {
   "display_name": "Python 3",
   "language": "python",
   "name": "python3"
  },
  "language_info": {
   "codemirror_mode": {
    "name": "ipython",
    "version": 3
   },
   "file_extension": ".py",
   "mimetype": "text/x-python",
   "name": "python",
   "nbconvert_exporter": "python",
   "pygments_lexer": "ipython3",
   "version": "3.10.8"
  }
 },
 "nbformat": 4,
 "nbformat_minor": 5
}
